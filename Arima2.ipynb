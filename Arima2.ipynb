{
  "cells": [
    {
      "cell_type": "markdown",
      "metadata": {
        "id": "view-in-github",
        "colab_type": "text"
      },
      "source": [
        "<a href=\"https://colab.research.google.com/github/b62mp1/ExistingResults/blob/main/Arima2.ipynb\" target=\"_parent\"><img src=\"https://colab.research.google.com/assets/colab-badge.svg\" alt=\"Open In Colab\"/></a>"
      ]
    },
    {
      "cell_type": "markdown",
      "metadata": {
        "heading_collapsed": true,
        "id": "2Jm0LGZdFPeu"
      },
      "source": [
        "# Load Data"
      ]
    },
    {
      "cell_type": "code",
      "execution_count": 5,
      "metadata": {
        "ExecuteTime": {
          "end_time": "2020-09-04T20:22:19.227627Z",
          "start_time": "2020-09-04T20:22:15.612625Z"
        },
        "hidden": true,
        "id": "tCY92U8LFPe0"
      },
      "outputs": [],
      "source": [
        "import pandas as pd\n",
        "import numpy as np\n",
        "import seaborn as sns\n",
        "import matplotlib.pyplot as plt\n",
        "from sklearn.preprocessing import MinMaxScaler\n",
        "import tensorflow as tf\n",
        "keras = tf.keras"
      ]
    },
    {
      "cell_type": "markdown",
      "metadata": {
        "id": "9FJlzRXAFPe3"
      },
      "source": [
        "## Data Extraction"
      ]
    },
    {
      "cell_type": "code",
      "source": [
        "#pip install yfinance"
      ],
      "metadata": {
        "id": "GZEUv58xFmFE"
      },
      "execution_count": 6,
      "outputs": []
    },
    {
      "cell_type": "code",
      "execution_count": 13,
      "metadata": {
        "ExecuteTime": {
          "end_time": "2020-09-04T20:22:23.426678Z",
          "start_time": "2020-09-04T20:22:21.185257Z"
        },
        "hidden": true,
        "id": "w_4VhU1mFPe5",
        "colab": {
          "base_uri": "https://localhost:8080/",
          "height": 243
        },
        "outputId": "e70d7023-ae53-487d-86f9-aca4a427bc44"
      },
      "outputs": [
        {
          "output_type": "stream",
          "name": "stdout",
          "text": [
            "\r[*********************100%***********************]  1 of 1 completed\n",
            "Number of rows and columns: (2513, 7)\n"
          ]
        },
        {
          "output_type": "execute_result",
          "data": {
            "text/html": [
              "<div>\n",
              "<style scoped>\n",
              "    .dataframe tbody tr th:only-of-type {\n",
              "        vertical-align: middle;\n",
              "    }\n",
              "\n",
              "    .dataframe tbody tr th {\n",
              "        vertical-align: top;\n",
              "    }\n",
              "\n",
              "    .dataframe thead th {\n",
              "        text-align: right;\n",
              "    }\n",
              "</style>\n",
              "<table border=\"1\" class=\"dataframe\">\n",
              "  <thead>\n",
              "    <tr style=\"text-align: right;\">\n",
              "      <th></th>\n",
              "      <th>Date</th>\n",
              "      <th>Open</th>\n",
              "      <th>High</th>\n",
              "      <th>Low</th>\n",
              "      <th>Close</th>\n",
              "      <th>Adj Close</th>\n",
              "      <th>Volume</th>\n",
              "    </tr>\n",
              "  </thead>\n",
              "  <tbody>\n",
              "    <tr>\n",
              "      <th>0</th>\n",
              "      <td>2011-12-19</td>\n",
              "      <td>312.832428</td>\n",
              "      <td>313.076508</td>\n",
              "      <td>308.842377</td>\n",
              "      <td>309.753967</td>\n",
              "      <td>309.753967</td>\n",
              "      <td>4303069</td>\n",
              "    </tr>\n",
              "    <tr>\n",
              "      <th>1</th>\n",
              "      <td>2011-12-20</td>\n",
              "      <td>312.827454</td>\n",
              "      <td>314.740265</td>\n",
              "      <td>312.822479</td>\n",
              "      <td>314.008026</td>\n",
              "      <td>314.008026</td>\n",
              "      <td>4794303</td>\n",
              "    </tr>\n",
              "    <tr>\n",
              "      <th>2</th>\n",
              "      <td>2011-12-21</td>\n",
              "      <td>313.828705</td>\n",
              "      <td>314.730316</td>\n",
              "      <td>308.324310</td>\n",
              "      <td>311.741516</td>\n",
              "      <td>311.741516</td>\n",
              "      <td>5014525</td>\n",
              "    </tr>\n",
              "    <tr>\n",
              "      <th>3</th>\n",
              "      <td>2011-12-22</td>\n",
              "      <td>312.802551</td>\n",
              "      <td>314.685486</td>\n",
              "      <td>312.334290</td>\n",
              "      <td>313.674286</td>\n",
              "      <td>313.674286</td>\n",
              "      <td>3658261</td>\n",
              "    </tr>\n",
              "    <tr>\n",
              "      <th>4</th>\n",
              "      <td>2011-12-23</td>\n",
              "      <td>314.819977</td>\n",
              "      <td>316.154968</td>\n",
              "      <td>314.102661</td>\n",
              "      <td>315.387848</td>\n",
              "      <td>315.387848</td>\n",
              "      <td>2918298</td>\n",
              "    </tr>\n",
              "  </tbody>\n",
              "</table>\n",
              "</div>"
            ],
            "text/plain": [
              "        Date        Open        High  ...       Close   Adj Close   Volume\n",
              "0 2011-12-19  312.832428  313.076508  ...  309.753967  309.753967  4303069\n",
              "1 2011-12-20  312.827454  314.740265  ...  314.008026  314.008026  4794303\n",
              "2 2011-12-21  313.828705  314.730316  ...  311.741516  311.741516  5014525\n",
              "3 2011-12-22  312.802551  314.685486  ...  313.674286  313.674286  3658261\n",
              "4 2011-12-23  314.819977  316.154968  ...  315.387848  315.387848  2918298\n",
              "\n",
              "[5 rows x 7 columns]"
            ]
          },
          "metadata": {},
          "execution_count": 13
        }
      ],
      "source": [
        "import datetime as dt\n",
        "import yfinance as yf\n",
        "from pandas_datareader import data as pdr\n",
        "yf.pdr_override()\n",
        "\n",
        "today=dt.date.today()\n",
        "startDate=today-dt.timedelta(days=10*365)\n",
        "stock_name = \"GOOG\"\n",
        "df=pdr.get_data_yahoo(stock_name, start=(startDate), end=today).reset_index()\n",
        "print(\"Number of rows and columns:\", df.shape)\n",
        "df.head(5)"
      ]
    },
    {
      "cell_type": "code",
      "execution_count": 14,
      "metadata": {
        "id": "PtmWdKrUFPe9"
      },
      "outputs": [],
      "source": [
        "df.dropna(inplace=True)"
      ]
    },
    {
      "cell_type": "markdown",
      "metadata": {
        "heading_collapsed": true,
        "hidden": true,
        "id": "Ovi-U1CpFPe-"
      },
      "source": [
        "### df Train Test Split"
      ]
    },
    {
      "cell_type": "markdown",
      "metadata": {
        "hidden": true,
        "id": "T_DLB7R8FPfA"
      },
      "source": [
        "Here we can see our complete plot in terms of time steps. Our entire data set is just shy of 7000 time steps. We know that our data is in days, so our data is just shy of 7000 daily observations. We need to separate out a training and validation set to see how our model holds up.\n",
        "\n",
        "I will be choosing an arbitrary date to separate the training, validation, and test data."
      ]
    },
    {
      "cell_type": "code",
      "execution_count": 129,
      "metadata": {
        "ExecuteTime": {
          "end_time": "2020-09-03T14:04:37.681615Z",
          "start_time": "2020-09-03T14:04:37.674537Z"
        },
        "hidden": true,
        "id": "v3QMNF-NFPfB"
      },
      "outputs": [],
      "source": [
        "series = df['Close']\n",
        "\n",
        "# Create train data set\n",
        "train_split_date = '2015-12-31'\n",
        "train_split_index = np.where(df.Date == train_split_date)[0][0]\n",
        "x_train = df.loc[df['Date'] <= train_split_date]['Close']\n",
        "\n",
        "# Create test data set\n",
        "test_split_date = '2018-01-02'\n",
        "test_split_index = np.where(df.Date == test_split_date)[0][0]\n",
        "x_test = df.loc[df['Date'] >= test_split_date]['Close']\n",
        "dates = df.loc[df['Date'] >= test_split_date]['Date']\n",
        "# Create valid data set\n",
        "valid_split_index = (train_split_index.max(),test_split_index.min())\n",
        "x_valid = df.loc[(df['Date'] < test_split_date) & (df['Date'] > train_split_date)]['Close']"
      ]
    },
    {
      "cell_type": "markdown",
      "metadata": {
        "heading_collapsed": true,
        "id": "lgXSwJSjFPfM"
      },
      "source": [
        "# ARIMA"
      ]
    },
    {
      "cell_type": "markdown",
      "metadata": {
        "heading_collapsed": true,
        "hidden": true,
        "id": "MaIsw5flFPfS"
      },
      "source": [
        "### Step 4: Building the Arima Model and Forecasting\n",
        "Now that we have experimented and found our prefered model order of (4,2,0) lets build the model and get some forecasts.\n",
        "\n",
        "This cell takes a while to run. Be careful. We have stored the model predictions using a magic method so we do not have to re-run this time consuming cell everytime."
      ]
    },
    {
      "cell_type": "code",
      "execution_count": 147,
      "metadata": {
        "ExecuteTime": {
          "end_time": "2020-09-02T20:18:35.393385Z",
          "start_time": "2020-09-02T20:14:08.894491Z"
        },
        "hidden": true,
        "scrolled": true,
        "id": "mNacTToBFPfT"
      },
      "outputs": [],
      "source": [
        "from statsmodels.tsa.arima_model import ARIMA\n",
        "\n",
        "# Create list of x train valuess\n",
        "history = [x for x in x_train]\n",
        "\n",
        "# establish list for predictions\n",
        "model_predictions = []\n",
        "\n",
        "# Count number of test data points\n",
        "N_test_observations = len(x_test)\n",
        "\n",
        "# loop through every data point\n",
        "for time_point in list(x_test.index[-50:]):\n",
        "    model = ARIMA(history, order=(4,1,0))\n",
        "    model_fit = model.fit(disp=0)\n",
        "    output = model_fit.forecast()\n",
        "    yhat = output[0]\n",
        "    model_predictions.append(yhat)\n",
        "    true_test_value = x_test[time_point]\n",
        "    history.append(true_test_value)\n",
        "        "
      ]
    },
    {
      "cell_type": "code",
      "source": [
        "#model_predictions = np.array(model_predictions).flatten()\n",
        "#model_predictions"
      ],
      "metadata": {
        "id": "qmqnJbNvIa9G"
      },
      "execution_count": 145,
      "outputs": []
    },
    {
      "cell_type": "code",
      "source": [
        "from datetime import datetime\n",
        "date = [str(d)[:10] for d in dates[-50:]]\n",
        "#date"
      ],
      "metadata": {
        "id": "31o0w7uLl-JH"
      },
      "execution_count": 140,
      "outputs": []
    },
    {
      "cell_type": "code",
      "execution_count": 148,
      "metadata": {
        "ExecuteTime": {
          "end_time": "2020-09-03T15:56:25.739922Z",
          "start_time": "2020-09-03T15:56:25.533298Z"
        },
        "hidden": true,
        "id": "285cWFwDFPfV",
        "outputId": "ff7e4097-b9bb-4c70-fe52-14e364772933",
        "colab": {
          "base_uri": "https://localhost:8080/",
          "height": 350
        }
      },
      "outputs": [
        {
          "output_type": "display_data",
          "data": {
            "image/png": "[encoded data removed]",
            "text/plain": [
              "<Figure size 720x360 with 1 Axes>"
            ]
          },
          "metadata": {
            "needs_background": "light"
          }
        }
      ],
      "source": [
        "# Plot our predictions against the actual values for a visual comparison.\n",
        "plt.figure(figsize=(10,5))\n",
        "\n",
        "plt.plot(x_test.index[-50:], model_predictions[-50:], color='blue',label='Predicted Price')\n",
        "plt.plot(x_test.index[-50:], x_test[-50:], color='red', label='Actual Price')\n",
        "plt.ylabel('Dollars $')\n",
        "plt.xlabel('Days')\n",
        "plt.title('ARIMA(4,1,0) Forecast vs Actual')\n",
        "#plt.xticks(x_test.index[-50:], date)\n",
        "plt.xticks( x_test.index[-50::7], date[-50::7])\n",
        "plt.legend()\n",
        "plt.show()"
      ]
    }
  ],
  "metadata": {
    "kernelspec": {
      "display_name": "Python 3",
      "language": "python",
      "name": "python3"
    },
    "language_info": {
      "codemirror_mode": {
        "name": "ipython",
        "version": 3
      },
      "file_extension": ".py",
      "mimetype": "text/x-python",
      "name": "python",
      "nbconvert_exporter": "python",
      "pygments_lexer": "ipython3",
      "version": "3.7.6"
    },
    "varInspector": {
      "cols": {
        "lenName": 16,
        "lenType": 16,
        "lenVar": 40
      },
      "kernels_config": {
        "python": {
          "delete_cmd_postfix": "",
          "delete_cmd_prefix": "del ",
          "library": "var_list.py",
          "varRefreshCmd": "print(var_dic_list())"
        },
        "r": {
          "delete_cmd_postfix": ") ",
          "delete_cmd_prefix": "rm(",
          "library": "var_list.r",
          "varRefreshCmd": "cat(var_dic_list()) "
        }
      },
      "types_to_exclude": [
        "module",
        "function",
        "builtin_function_or_method",
        "instance",
        "_Feature"
      ],
      "window_display": false
    },
    "colab": {
      "name": "Arima2",
      "provenance": [],
      "collapsed_sections": [],
      "include_colab_link": true
    }
  },
  "nbformat": 4,
  "nbformat_minor": 0
}